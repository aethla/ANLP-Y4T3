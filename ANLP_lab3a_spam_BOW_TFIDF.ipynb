{
  "nbformat": 4,
  "nbformat_minor": 0,
  "metadata": {
    "colab": {
      "provenance": []
    },
    "kernelspec": {
      "name": "python3",
      "display_name": "Python 3"
    },
    "language_info": {
      "name": "python"
    }
  },
  "cells": [
    {
      "cell_type": "code",
      "execution_count": null,
      "metadata": {
        "colab": {
          "base_uri": "https://localhost:8080/"
        },
        "id": "ImZsO04PSGh7",
        "outputId": "2d061c83-fd1c-4bad-8715-0dac0d5aabbf"
      },
      "outputs": [
        {
          "output_type": "stream",
          "name": "stdout",
          "text": [
            "Mounted at /content/drive\n"
          ]
        }
      ],
      "source": [
        "from google.colab import drive\n",
        "drive.mount('/content/drive')"
      ]
    },
    {
      "cell_type": "code",
      "execution_count": null,
      "metadata": {
        "colab": {
          "base_uri": "https://localhost:8080/"
        },
        "id": "a9y9SMYOidlY",
        "outputId": "f61db4ab-7b19-473a-e542-c3ccad5e8d92"
      },
      "outputs": [
        {
          "output_type": "stream",
          "name": "stderr",
          "text": [
            "[nltk_data] Downloading collection 'popular'\n",
            "[nltk_data]    | \n",
            "[nltk_data]    | Downloading package cmudict to /root/nltk_data...\n",
            "[nltk_data]    |   Unzipping corpora/cmudict.zip.\n",
            "[nltk_data]    | Downloading package gazetteers to /root/nltk_data...\n",
            "[nltk_data]    |   Unzipping corpora/gazetteers.zip.\n",
            "[nltk_data]    | Downloading package genesis to /root/nltk_data...\n",
            "[nltk_data]    |   Unzipping corpora/genesis.zip.\n",
            "[nltk_data]    | Downloading package gutenberg to /root/nltk_data...\n",
            "[nltk_data]    |   Unzipping corpora/gutenberg.zip.\n",
            "[nltk_data]    | Downloading package inaugural to /root/nltk_data...\n",
            "[nltk_data]    |   Unzipping corpora/inaugural.zip.\n",
            "[nltk_data]    | Downloading package movie_reviews to\n",
            "[nltk_data]    |     /root/nltk_data...\n",
            "[nltk_data]    |   Unzipping corpora/movie_reviews.zip.\n",
            "[nltk_data]    | Downloading package names to /root/nltk_data...\n",
            "[nltk_data]    |   Unzipping corpora/names.zip.\n",
            "[nltk_data]    | Downloading package shakespeare to /root/nltk_data...\n",
            "[nltk_data]    |   Unzipping corpora/shakespeare.zip.\n",
            "[nltk_data]    | Downloading package stopwords to /root/nltk_data...\n",
            "[nltk_data]    |   Unzipping corpora/stopwords.zip.\n",
            "[nltk_data]    | Downloading package treebank to /root/nltk_data...\n",
            "[nltk_data]    |   Unzipping corpora/treebank.zip.\n",
            "[nltk_data]    | Downloading package twitter_samples to\n",
            "[nltk_data]    |     /root/nltk_data...\n",
            "[nltk_data]    |   Unzipping corpora/twitter_samples.zip.\n",
            "[nltk_data]    | Downloading package omw to /root/nltk_data...\n",
            "[nltk_data]    | Downloading package omw-1.4 to /root/nltk_data...\n",
            "[nltk_data]    | Downloading package wordnet to /root/nltk_data...\n",
            "[nltk_data]    | Downloading package wordnet2021 to /root/nltk_data...\n",
            "[nltk_data]    | Downloading package wordnet31 to /root/nltk_data...\n",
            "[nltk_data]    | Downloading package wordnet_ic to /root/nltk_data...\n",
            "[nltk_data]    |   Unzipping corpora/wordnet_ic.zip.\n",
            "[nltk_data]    | Downloading package words to /root/nltk_data...\n",
            "[nltk_data]    |   Unzipping corpora/words.zip.\n",
            "[nltk_data]    | Downloading package maxent_ne_chunker to\n",
            "[nltk_data]    |     /root/nltk_data...\n",
            "[nltk_data]    |   Unzipping chunkers/maxent_ne_chunker.zip.\n",
            "[nltk_data]    | Downloading package punkt to /root/nltk_data...\n",
            "[nltk_data]    |   Unzipping tokenizers/punkt.zip.\n",
            "[nltk_data]    | Downloading package snowball_data to\n",
            "[nltk_data]    |     /root/nltk_data...\n",
            "[nltk_data]    | Downloading package averaged_perceptron_tagger to\n",
            "[nltk_data]    |     /root/nltk_data...\n",
            "[nltk_data]    |   Unzipping taggers/averaged_perceptron_tagger.zip.\n",
            "[nltk_data]    | \n",
            "[nltk_data]  Done downloading collection popular\n"
          ]
        },
        {
          "output_type": "execute_result",
          "data": {
            "text/plain": [
              "True"
            ]
          },
          "metadata": {},
          "execution_count": 2
        }
      ],
      "source": [
        "import pandas as pd\n",
        "import numpy as np\n",
        "import nltk\n",
        "nltk.download(\"popular\")"
      ]
    },
    {
      "cell_type": "code",
      "source": [
        "data = pd.read_csv(\"/content/drive/MyDrive/ANLP-Y4T3/email_spam.csv\")\n",
        "data.head(5)"
      ],
      "metadata": {
        "colab": {
          "base_uri": "https://localhost:8080/",
          "height": 206
        },
        "id": "zLaZXEYZVsjv",
        "outputId": "b451e066-7c3d-433c-9ee5-87d1bec3b2f5"
      },
      "execution_count": null,
      "outputs": [
        {
          "output_type": "execute_result",
          "data": {
            "text/plain": [
              "                                               email label\n",
              "0  Subject: what up , , your cam babe what are yo...  spam\n",
              "1  Subject: want to make more money ? order confi...  spam\n",
              "2  Subject: food for thoughts [ join now - take a...  spam\n",
              "3  Subject: your pharmacy ta would you want cheap...  spam\n",
              "4  Subject: bigger breast just from a pill image ...  spam"
            ],
            "text/html": [
              "\n",
              "  <div id=\"df-c2cf90e5-1440-49a1-be9f-706715369ee1\" class=\"colab-df-container\">\n",
              "    <div>\n",
              "<style scoped>\n",
              "    .dataframe tbody tr th:only-of-type {\n",
              "        vertical-align: middle;\n",
              "    }\n",
              "\n",
              "    .dataframe tbody tr th {\n",
              "        vertical-align: top;\n",
              "    }\n",
              "\n",
              "    .dataframe thead th {\n",
              "        text-align: right;\n",
              "    }\n",
              "</style>\n",
              "<table border=\"1\" class=\"dataframe\">\n",
              "  <thead>\n",
              "    <tr style=\"text-align: right;\">\n",
              "      <th></th>\n",
              "      <th>email</th>\n",
              "      <th>label</th>\n",
              "    </tr>\n",
              "  </thead>\n",
              "  <tbody>\n",
              "    <tr>\n",
              "      <th>0</th>\n",
              "      <td>Subject: what up , , your cam babe what are yo...</td>\n",
              "      <td>spam</td>\n",
              "    </tr>\n",
              "    <tr>\n",
              "      <th>1</th>\n",
              "      <td>Subject: want to make more money ? order confi...</td>\n",
              "      <td>spam</td>\n",
              "    </tr>\n",
              "    <tr>\n",
              "      <th>2</th>\n",
              "      <td>Subject: food for thoughts [ join now - take a...</td>\n",
              "      <td>spam</td>\n",
              "    </tr>\n",
              "    <tr>\n",
              "      <th>3</th>\n",
              "      <td>Subject: your pharmacy ta would you want cheap...</td>\n",
              "      <td>spam</td>\n",
              "    </tr>\n",
              "    <tr>\n",
              "      <th>4</th>\n",
              "      <td>Subject: bigger breast just from a pill image ...</td>\n",
              "      <td>spam</td>\n",
              "    </tr>\n",
              "  </tbody>\n",
              "</table>\n",
              "</div>\n",
              "    <div class=\"colab-df-buttons\">\n",
              "\n",
              "  <div class=\"colab-df-container\">\n",
              "    <button class=\"colab-df-convert\" onclick=\"convertToInteractive('df-c2cf90e5-1440-49a1-be9f-706715369ee1')\"\n",
              "            title=\"Convert this dataframe to an interactive table.\"\n",
              "            style=\"display:none;\">\n",
              "\n",
              "  <svg xmlns=\"http://www.w3.org/2000/svg\" height=\"24px\" viewBox=\"0 -960 960 960\">\n",
              "    <path d=\"M120-120v-720h720v720H120Zm60-500h600v-160H180v160Zm220 220h160v-160H400v160Zm0 220h160v-160H400v160ZM180-400h160v-160H180v160Zm440 0h160v-160H620v160ZM180-180h160v-160H180v160Zm440 0h160v-160H620v160Z\"/>\n",
              "  </svg>\n",
              "    </button>\n",
              "\n",
              "  <style>\n",
              "    .colab-df-container {\n",
              "      display:flex;\n",
              "      gap: 12px;\n",
              "    }\n",
              "\n",
              "    .colab-df-convert {\n",
              "      background-color: #E8F0FE;\n",
              "      border: none;\n",
              "      border-radius: 50%;\n",
              "      cursor: pointer;\n",
              "      display: none;\n",
              "      fill: #1967D2;\n",
              "      height: 32px;\n",
              "      padding: 0 0 0 0;\n",
              "      width: 32px;\n",
              "    }\n",
              "\n",
              "    .colab-df-convert:hover {\n",
              "      background-color: #E2EBFA;\n",
              "      box-shadow: 0px 1px 2px rgba(60, 64, 67, 0.3), 0px 1px 3px 1px rgba(60, 64, 67, 0.15);\n",
              "      fill: #174EA6;\n",
              "    }\n",
              "\n",
              "    .colab-df-buttons div {\n",
              "      margin-bottom: 4px;\n",
              "    }\n",
              "\n",
              "    [theme=dark] .colab-df-convert {\n",
              "      background-color: #3B4455;\n",
              "      fill: #D2E3FC;\n",
              "    }\n",
              "\n",
              "    [theme=dark] .colab-df-convert:hover {\n",
              "      background-color: #434B5C;\n",
              "      box-shadow: 0px 1px 3px 1px rgba(0, 0, 0, 0.15);\n",
              "      filter: drop-shadow(0px 1px 2px rgba(0, 0, 0, 0.3));\n",
              "      fill: #FFFFFF;\n",
              "    }\n",
              "  </style>\n",
              "\n",
              "    <script>\n",
              "      const buttonEl =\n",
              "        document.querySelector('#df-c2cf90e5-1440-49a1-be9f-706715369ee1 button.colab-df-convert');\n",
              "      buttonEl.style.display =\n",
              "        google.colab.kernel.accessAllowed ? 'block' : 'none';\n",
              "\n",
              "      async function convertToInteractive(key) {\n",
              "        const element = document.querySelector('#df-c2cf90e5-1440-49a1-be9f-706715369ee1');\n",
              "        const dataTable =\n",
              "          await google.colab.kernel.invokeFunction('convertToInteractive',\n",
              "                                                    [key], {});\n",
              "        if (!dataTable) return;\n",
              "\n",
              "        const docLinkHtml = 'Like what you see? Visit the ' +\n",
              "          '<a target=\"_blank\" href=https://colab.research.google.com/notebooks/data_table.ipynb>data table notebook</a>'\n",
              "          + ' to learn more about interactive tables.';\n",
              "        element.innerHTML = '';\n",
              "        dataTable['output_type'] = 'display_data';\n",
              "        await google.colab.output.renderOutput(dataTable, element);\n",
              "        const docLink = document.createElement('div');\n",
              "        docLink.innerHTML = docLinkHtml;\n",
              "        element.appendChild(docLink);\n",
              "      }\n",
              "    </script>\n",
              "  </div>\n",
              "\n",
              "\n",
              "<div id=\"df-f36429f4-e060-4335-b25b-67fbc988a5d5\">\n",
              "  <button class=\"colab-df-quickchart\" onclick=\"quickchart('df-f36429f4-e060-4335-b25b-67fbc988a5d5')\"\n",
              "            title=\"Suggest charts\"\n",
              "            style=\"display:none;\">\n",
              "\n",
              "<svg xmlns=\"http://www.w3.org/2000/svg\" height=\"24px\"viewBox=\"0 0 24 24\"\n",
              "     width=\"24px\">\n",
              "    <g>\n",
              "        <path d=\"M19 3H5c-1.1 0-2 .9-2 2v14c0 1.1.9 2 2 2h14c1.1 0 2-.9 2-2V5c0-1.1-.9-2-2-2zM9 17H7v-7h2v7zm4 0h-2V7h2v10zm4 0h-2v-4h2v4z\"/>\n",
              "    </g>\n",
              "</svg>\n",
              "  </button>\n",
              "\n",
              "<style>\n",
              "  .colab-df-quickchart {\n",
              "      --bg-color: #E8F0FE;\n",
              "      --fill-color: #1967D2;\n",
              "      --hover-bg-color: #E2EBFA;\n",
              "      --hover-fill-color: #174EA6;\n",
              "      --disabled-fill-color: #AAA;\n",
              "      --disabled-bg-color: #DDD;\n",
              "  }\n",
              "\n",
              "  [theme=dark] .colab-df-quickchart {\n",
              "      --bg-color: #3B4455;\n",
              "      --fill-color: #D2E3FC;\n",
              "      --hover-bg-color: #434B5C;\n",
              "      --hover-fill-color: #FFFFFF;\n",
              "      --disabled-bg-color: #3B4455;\n",
              "      --disabled-fill-color: #666;\n",
              "  }\n",
              "\n",
              "  .colab-df-quickchart {\n",
              "    background-color: var(--bg-color);\n",
              "    border: none;\n",
              "    border-radius: 50%;\n",
              "    cursor: pointer;\n",
              "    display: none;\n",
              "    fill: var(--fill-color);\n",
              "    height: 32px;\n",
              "    padding: 0;\n",
              "    width: 32px;\n",
              "  }\n",
              "\n",
              "  .colab-df-quickchart:hover {\n",
              "    background-color: var(--hover-bg-color);\n",
              "    box-shadow: 0 1px 2px rgba(60, 64, 67, 0.3), 0 1px 3px 1px rgba(60, 64, 67, 0.15);\n",
              "    fill: var(--button-hover-fill-color);\n",
              "  }\n",
              "\n",
              "  .colab-df-quickchart-complete:disabled,\n",
              "  .colab-df-quickchart-complete:disabled:hover {\n",
              "    background-color: var(--disabled-bg-color);\n",
              "    fill: var(--disabled-fill-color);\n",
              "    box-shadow: none;\n",
              "  }\n",
              "\n",
              "  .colab-df-spinner {\n",
              "    border: 2px solid var(--fill-color);\n",
              "    border-color: transparent;\n",
              "    border-bottom-color: var(--fill-color);\n",
              "    animation:\n",
              "      spin 1s steps(1) infinite;\n",
              "  }\n",
              "\n",
              "  @keyframes spin {\n",
              "    0% {\n",
              "      border-color: transparent;\n",
              "      border-bottom-color: var(--fill-color);\n",
              "      border-left-color: var(--fill-color);\n",
              "    }\n",
              "    20% {\n",
              "      border-color: transparent;\n",
              "      border-left-color: var(--fill-color);\n",
              "      border-top-color: var(--fill-color);\n",
              "    }\n",
              "    30% {\n",
              "      border-color: transparent;\n",
              "      border-left-color: var(--fill-color);\n",
              "      border-top-color: var(--fill-color);\n",
              "      border-right-color: var(--fill-color);\n",
              "    }\n",
              "    40% {\n",
              "      border-color: transparent;\n",
              "      border-right-color: var(--fill-color);\n",
              "      border-top-color: var(--fill-color);\n",
              "    }\n",
              "    60% {\n",
              "      border-color: transparent;\n",
              "      border-right-color: var(--fill-color);\n",
              "    }\n",
              "    80% {\n",
              "      border-color: transparent;\n",
              "      border-right-color: var(--fill-color);\n",
              "      border-bottom-color: var(--fill-color);\n",
              "    }\n",
              "    90% {\n",
              "      border-color: transparent;\n",
              "      border-bottom-color: var(--fill-color);\n",
              "    }\n",
              "  }\n",
              "</style>\n",
              "\n",
              "  <script>\n",
              "    async function quickchart(key) {\n",
              "      const quickchartButtonEl =\n",
              "        document.querySelector('#' + key + ' button');\n",
              "      quickchartButtonEl.disabled = true;  // To prevent multiple clicks.\n",
              "      quickchartButtonEl.classList.add('colab-df-spinner');\n",
              "      try {\n",
              "        const charts = await google.colab.kernel.invokeFunction(\n",
              "            'suggestCharts', [key], {});\n",
              "      } catch (error) {\n",
              "        console.error('Error during call to suggestCharts:', error);\n",
              "      }\n",
              "      quickchartButtonEl.classList.remove('colab-df-spinner');\n",
              "      quickchartButtonEl.classList.add('colab-df-quickchart-complete');\n",
              "    }\n",
              "    (() => {\n",
              "      let quickchartButtonEl =\n",
              "        document.querySelector('#df-f36429f4-e060-4335-b25b-67fbc988a5d5 button');\n",
              "      quickchartButtonEl.style.display =\n",
              "        google.colab.kernel.accessAllowed ? 'block' : 'none';\n",
              "    })();\n",
              "  </script>\n",
              "</div>\n",
              "    </div>\n",
              "  </div>\n"
            ],
            "application/vnd.google.colaboratory.intrinsic+json": {
              "type": "dataframe",
              "variable_name": "data",
              "summary": "{\n  \"name\": \"data\",\n  \"rows\": 17830,\n  \"fields\": [\n    {\n      \"column\": \"email\",\n      \"properties\": {\n        \"dtype\": \"string\",\n        \"num_unique_values\": 17830,\n        \"samples\": [\n          \"Subject: friendly reminder - - global strategic sourcing travel services survey please take a few minutes to complete this confidential travel survey , as your input is important and vital to the success of the overall travel program for enron . thank you , global strategic sourcing experiencing technical problems ? if this link does not automatically launch the questionnaire : 1 . launch by copying the link above into your browser , or 2 . if you continue to have technical difficulties , please send an email message to confirmit @ enron . com 3 . please do not forward this link to anyone else , as the responses should remain confidential .\",\n          \"Subject: day rate hedge vince , included is the rest of the prices for 4 th and 5 th generation semi - submersibles in the gulf of mexico . the only additional data is from sept 99 through dec 99 . chris and i look forward to your analysis on tuesday .\",\n          \"Subject: do you hate red light cameras ? - j 4 svs have you been caught by a red light camera yet ? if yes , then you have already paid $ 100 ? $ 150 ? $ 250 ? or more for each offense ! what if i told you there is a way to avoid these fines forever ? 100 % gauranteed come here to find out how check here to change your future preference . \"\n        ],\n        \"semantic_type\": \"\",\n        \"description\": \"\"\n      }\n    },\n    {\n      \"column\": \"label\",\n      \"properties\": {\n        \"dtype\": \"category\",\n        \"num_unique_values\": 2,\n        \"samples\": [\n          \"ham\",\n          \"spam\"\n        ],\n        \"semantic_type\": \"\",\n        \"description\": \"\"\n      }\n    }\n  ]\n}"
            }
          },
          "metadata": {},
          "execution_count": 3
        }
      ]
    },
    {
      "cell_type": "code",
      "source": [
        "#checking distribution of the dataset\n",
        "data.groupby('label').count()"
      ],
      "metadata": {
        "colab": {
          "base_uri": "https://localhost:8080/",
          "height": 143
        },
        "id": "yWKb0aCsV7oB",
        "outputId": "bfc9bae1-502c-4f33-a555-7532d172d2e5"
      },
      "execution_count": null,
      "outputs": [
        {
          "output_type": "execute_result",
          "data": {
            "text/plain": [
              "       email\n",
              "label       \n",
              "ham     8336\n",
              "spam    9494"
            ],
            "text/html": [
              "\n",
              "  <div id=\"df-f641abc6-a0e5-401e-9b7b-5f7cfa52872f\" class=\"colab-df-container\">\n",
              "    <div>\n",
              "<style scoped>\n",
              "    .dataframe tbody tr th:only-of-type {\n",
              "        vertical-align: middle;\n",
              "    }\n",
              "\n",
              "    .dataframe tbody tr th {\n",
              "        vertical-align: top;\n",
              "    }\n",
              "\n",
              "    .dataframe thead th {\n",
              "        text-align: right;\n",
              "    }\n",
              "</style>\n",
              "<table border=\"1\" class=\"dataframe\">\n",
              "  <thead>\n",
              "    <tr style=\"text-align: right;\">\n",
              "      <th></th>\n",
              "      <th>email</th>\n",
              "    </tr>\n",
              "    <tr>\n",
              "      <th>label</th>\n",
              "      <th></th>\n",
              "    </tr>\n",
              "  </thead>\n",
              "  <tbody>\n",
              "    <tr>\n",
              "      <th>ham</th>\n",
              "      <td>8336</td>\n",
              "    </tr>\n",
              "    <tr>\n",
              "      <th>spam</th>\n",
              "      <td>9494</td>\n",
              "    </tr>\n",
              "  </tbody>\n",
              "</table>\n",
              "</div>\n",
              "    <div class=\"colab-df-buttons\">\n",
              "\n",
              "  <div class=\"colab-df-container\">\n",
              "    <button class=\"colab-df-convert\" onclick=\"convertToInteractive('df-f641abc6-a0e5-401e-9b7b-5f7cfa52872f')\"\n",
              "            title=\"Convert this dataframe to an interactive table.\"\n",
              "            style=\"display:none;\">\n",
              "\n",
              "  <svg xmlns=\"http://www.w3.org/2000/svg\" height=\"24px\" viewBox=\"0 -960 960 960\">\n",
              "    <path d=\"M120-120v-720h720v720H120Zm60-500h600v-160H180v160Zm220 220h160v-160H400v160Zm0 220h160v-160H400v160ZM180-400h160v-160H180v160Zm440 0h160v-160H620v160ZM180-180h160v-160H180v160Zm440 0h160v-160H620v160Z\"/>\n",
              "  </svg>\n",
              "    </button>\n",
              "\n",
              "  <style>\n",
              "    .colab-df-container {\n",
              "      display:flex;\n",
              "      gap: 12px;\n",
              "    }\n",
              "\n",
              "    .colab-df-convert {\n",
              "      background-color: #E8F0FE;\n",
              "      border: none;\n",
              "      border-radius: 50%;\n",
              "      cursor: pointer;\n",
              "      display: none;\n",
              "      fill: #1967D2;\n",
              "      height: 32px;\n",
              "      padding: 0 0 0 0;\n",
              "      width: 32px;\n",
              "    }\n",
              "\n",
              "    .colab-df-convert:hover {\n",
              "      background-color: #E2EBFA;\n",
              "      box-shadow: 0px 1px 2px rgba(60, 64, 67, 0.3), 0px 1px 3px 1px rgba(60, 64, 67, 0.15);\n",
              "      fill: #174EA6;\n",
              "    }\n",
              "\n",
              "    .colab-df-buttons div {\n",
              "      margin-bottom: 4px;\n",
              "    }\n",
              "\n",
              "    [theme=dark] .colab-df-convert {\n",
              "      background-color: #3B4455;\n",
              "      fill: #D2E3FC;\n",
              "    }\n",
              "\n",
              "    [theme=dark] .colab-df-convert:hover {\n",
              "      background-color: #434B5C;\n",
              "      box-shadow: 0px 1px 3px 1px rgba(0, 0, 0, 0.15);\n",
              "      filter: drop-shadow(0px 1px 2px rgba(0, 0, 0, 0.3));\n",
              "      fill: #FFFFFF;\n",
              "    }\n",
              "  </style>\n",
              "\n",
              "    <script>\n",
              "      const buttonEl =\n",
              "        document.querySelector('#df-f641abc6-a0e5-401e-9b7b-5f7cfa52872f button.colab-df-convert');\n",
              "      buttonEl.style.display =\n",
              "        google.colab.kernel.accessAllowed ? 'block' : 'none';\n",
              "\n",
              "      async function convertToInteractive(key) {\n",
              "        const element = document.querySelector('#df-f641abc6-a0e5-401e-9b7b-5f7cfa52872f');\n",
              "        const dataTable =\n",
              "          await google.colab.kernel.invokeFunction('convertToInteractive',\n",
              "                                                    [key], {});\n",
              "        if (!dataTable) return;\n",
              "\n",
              "        const docLinkHtml = 'Like what you see? Visit the ' +\n",
              "          '<a target=\"_blank\" href=https://colab.research.google.com/notebooks/data_table.ipynb>data table notebook</a>'\n",
              "          + ' to learn more about interactive tables.';\n",
              "        element.innerHTML = '';\n",
              "        dataTable['output_type'] = 'display_data';\n",
              "        await google.colab.output.renderOutput(dataTable, element);\n",
              "        const docLink = document.createElement('div');\n",
              "        docLink.innerHTML = docLinkHtml;\n",
              "        element.appendChild(docLink);\n",
              "      }\n",
              "    </script>\n",
              "  </div>\n",
              "\n",
              "\n",
              "<div id=\"df-9d14c93a-72f8-4b67-8f20-a3651184750a\">\n",
              "  <button class=\"colab-df-quickchart\" onclick=\"quickchart('df-9d14c93a-72f8-4b67-8f20-a3651184750a')\"\n",
              "            title=\"Suggest charts\"\n",
              "            style=\"display:none;\">\n",
              "\n",
              "<svg xmlns=\"http://www.w3.org/2000/svg\" height=\"24px\"viewBox=\"0 0 24 24\"\n",
              "     width=\"24px\">\n",
              "    <g>\n",
              "        <path d=\"M19 3H5c-1.1 0-2 .9-2 2v14c0 1.1.9 2 2 2h14c1.1 0 2-.9 2-2V5c0-1.1-.9-2-2-2zM9 17H7v-7h2v7zm4 0h-2V7h2v10zm4 0h-2v-4h2v4z\"/>\n",
              "    </g>\n",
              "</svg>\n",
              "  </button>\n",
              "\n",
              "<style>\n",
              "  .colab-df-quickchart {\n",
              "      --bg-color: #E8F0FE;\n",
              "      --fill-color: #1967D2;\n",
              "      --hover-bg-color: #E2EBFA;\n",
              "      --hover-fill-color: #174EA6;\n",
              "      --disabled-fill-color: #AAA;\n",
              "      --disabled-bg-color: #DDD;\n",
              "  }\n",
              "\n",
              "  [theme=dark] .colab-df-quickchart {\n",
              "      --bg-color: #3B4455;\n",
              "      --fill-color: #D2E3FC;\n",
              "      --hover-bg-color: #434B5C;\n",
              "      --hover-fill-color: #FFFFFF;\n",
              "      --disabled-bg-color: #3B4455;\n",
              "      --disabled-fill-color: #666;\n",
              "  }\n",
              "\n",
              "  .colab-df-quickchart {\n",
              "    background-color: var(--bg-color);\n",
              "    border: none;\n",
              "    border-radius: 50%;\n",
              "    cursor: pointer;\n",
              "    display: none;\n",
              "    fill: var(--fill-color);\n",
              "    height: 32px;\n",
              "    padding: 0;\n",
              "    width: 32px;\n",
              "  }\n",
              "\n",
              "  .colab-df-quickchart:hover {\n",
              "    background-color: var(--hover-bg-color);\n",
              "    box-shadow: 0 1px 2px rgba(60, 64, 67, 0.3), 0 1px 3px 1px rgba(60, 64, 67, 0.15);\n",
              "    fill: var(--button-hover-fill-color);\n",
              "  }\n",
              "\n",
              "  .colab-df-quickchart-complete:disabled,\n",
              "  .colab-df-quickchart-complete:disabled:hover {\n",
              "    background-color: var(--disabled-bg-color);\n",
              "    fill: var(--disabled-fill-color);\n",
              "    box-shadow: none;\n",
              "  }\n",
              "\n",
              "  .colab-df-spinner {\n",
              "    border: 2px solid var(--fill-color);\n",
              "    border-color: transparent;\n",
              "    border-bottom-color: var(--fill-color);\n",
              "    animation:\n",
              "      spin 1s steps(1) infinite;\n",
              "  }\n",
              "\n",
              "  @keyframes spin {\n",
              "    0% {\n",
              "      border-color: transparent;\n",
              "      border-bottom-color: var(--fill-color);\n",
              "      border-left-color: var(--fill-color);\n",
              "    }\n",
              "    20% {\n",
              "      border-color: transparent;\n",
              "      border-left-color: var(--fill-color);\n",
              "      border-top-color: var(--fill-color);\n",
              "    }\n",
              "    30% {\n",
              "      border-color: transparent;\n",
              "      border-left-color: var(--fill-color);\n",
              "      border-top-color: var(--fill-color);\n",
              "      border-right-color: var(--fill-color);\n",
              "    }\n",
              "    40% {\n",
              "      border-color: transparent;\n",
              "      border-right-color: var(--fill-color);\n",
              "      border-top-color: var(--fill-color);\n",
              "    }\n",
              "    60% {\n",
              "      border-color: transparent;\n",
              "      border-right-color: var(--fill-color);\n",
              "    }\n",
              "    80% {\n",
              "      border-color: transparent;\n",
              "      border-right-color: var(--fill-color);\n",
              "      border-bottom-color: var(--fill-color);\n",
              "    }\n",
              "    90% {\n",
              "      border-color: transparent;\n",
              "      border-bottom-color: var(--fill-color);\n",
              "    }\n",
              "  }\n",
              "</style>\n",
              "\n",
              "  <script>\n",
              "    async function quickchart(key) {\n",
              "      const quickchartButtonEl =\n",
              "        document.querySelector('#' + key + ' button');\n",
              "      quickchartButtonEl.disabled = true;  // To prevent multiple clicks.\n",
              "      quickchartButtonEl.classList.add('colab-df-spinner');\n",
              "      try {\n",
              "        const charts = await google.colab.kernel.invokeFunction(\n",
              "            'suggestCharts', [key], {});\n",
              "      } catch (error) {\n",
              "        console.error('Error during call to suggestCharts:', error);\n",
              "      }\n",
              "      quickchartButtonEl.classList.remove('colab-df-spinner');\n",
              "      quickchartButtonEl.classList.add('colab-df-quickchart-complete');\n",
              "    }\n",
              "    (() => {\n",
              "      let quickchartButtonEl =\n",
              "        document.querySelector('#df-9d14c93a-72f8-4b67-8f20-a3651184750a button');\n",
              "      quickchartButtonEl.style.display =\n",
              "        google.colab.kernel.accessAllowed ? 'block' : 'none';\n",
              "    })();\n",
              "  </script>\n",
              "</div>\n",
              "    </div>\n",
              "  </div>\n"
            ],
            "application/vnd.google.colaboratory.intrinsic+json": {
              "type": "dataframe",
              "summary": "{\n  \"name\": \"data\",\n  \"rows\": 2,\n  \"fields\": [\n    {\n      \"column\": \"label\",\n      \"properties\": {\n        \"dtype\": \"string\",\n        \"num_unique_values\": 2,\n        \"samples\": [\n          \"spam\",\n          \"ham\"\n        ],\n        \"semantic_type\": \"\",\n        \"description\": \"\"\n      }\n    },\n    {\n      \"column\": \"email\",\n      \"properties\": {\n        \"dtype\": \"number\",\n        \"std\": 818,\n        \"min\": 8336,\n        \"max\": 9494,\n        \"num_unique_values\": 2,\n        \"samples\": [\n          9494,\n          8336\n        ],\n        \"semantic_type\": \"\",\n        \"description\": \"\"\n      }\n    }\n  ]\n}"
            }
          },
          "metadata": {},
          "execution_count": 4
        }
      ]
    },
    {
      "cell_type": "code",
      "source": [
        "#naming columns\n",
        "data.columns = ['text', 'label']\n",
        "# creating dummy variables for spam and ham\n",
        "y=pd.get_dummies(data['label'])\n",
        "y=y.iloc[:,1].values\n",
        "data.head(5)"
      ],
      "metadata": {
        "colab": {
          "base_uri": "https://localhost:8080/",
          "height": 206
        },
        "id": "MaUH_aMSWB0J",
        "outputId": "24e6eab7-afc9-4266-aa3e-4f41a152e13f"
      },
      "execution_count": null,
      "outputs": [
        {
          "output_type": "execute_result",
          "data": {
            "text/plain": [
              "                                                text label\n",
              "0  Subject: what up , , your cam babe what are yo...  spam\n",
              "1  Subject: want to make more money ? order confi...  spam\n",
              "2  Subject: food for thoughts [ join now - take a...  spam\n",
              "3  Subject: your pharmacy ta would you want cheap...  spam\n",
              "4  Subject: bigger breast just from a pill image ...  spam"
            ],
            "text/html": [
              "\n",
              "  <div id=\"df-a8abbb47-0563-4daa-8440-ae97e02cc58e\" class=\"colab-df-container\">\n",
              "    <div>\n",
              "<style scoped>\n",
              "    .dataframe tbody tr th:only-of-type {\n",
              "        vertical-align: middle;\n",
              "    }\n",
              "\n",
              "    .dataframe tbody tr th {\n",
              "        vertical-align: top;\n",
              "    }\n",
              "\n",
              "    .dataframe thead th {\n",
              "        text-align: right;\n",
              "    }\n",
              "</style>\n",
              "<table border=\"1\" class=\"dataframe\">\n",
              "  <thead>\n",
              "    <tr style=\"text-align: right;\">\n",
              "      <th></th>\n",
              "      <th>text</th>\n",
              "      <th>label</th>\n",
              "    </tr>\n",
              "  </thead>\n",
              "  <tbody>\n",
              "    <tr>\n",
              "      <th>0</th>\n",
              "      <td>Subject: what up , , your cam babe what are yo...</td>\n",
              "      <td>spam</td>\n",
              "    </tr>\n",
              "    <tr>\n",
              "      <th>1</th>\n",
              "      <td>Subject: want to make more money ? order confi...</td>\n",
              "      <td>spam</td>\n",
              "    </tr>\n",
              "    <tr>\n",
              "      <th>2</th>\n",
              "      <td>Subject: food for thoughts [ join now - take a...</td>\n",
              "      <td>spam</td>\n",
              "    </tr>\n",
              "    <tr>\n",
              "      <th>3</th>\n",
              "      <td>Subject: your pharmacy ta would you want cheap...</td>\n",
              "      <td>spam</td>\n",
              "    </tr>\n",
              "    <tr>\n",
              "      <th>4</th>\n",
              "      <td>Subject: bigger breast just from a pill image ...</td>\n",
              "      <td>spam</td>\n",
              "    </tr>\n",
              "  </tbody>\n",
              "</table>\n",
              "</div>\n",
              "    <div class=\"colab-df-buttons\">\n",
              "\n",
              "  <div class=\"colab-df-container\">\n",
              "    <button class=\"colab-df-convert\" onclick=\"convertToInteractive('df-a8abbb47-0563-4daa-8440-ae97e02cc58e')\"\n",
              "            title=\"Convert this dataframe to an interactive table.\"\n",
              "            style=\"display:none;\">\n",
              "\n",
              "  <svg xmlns=\"http://www.w3.org/2000/svg\" height=\"24px\" viewBox=\"0 -960 960 960\">\n",
              "    <path d=\"M120-120v-720h720v720H120Zm60-500h600v-160H180v160Zm220 220h160v-160H400v160Zm0 220h160v-160H400v160ZM180-400h160v-160H180v160Zm440 0h160v-160H620v160ZM180-180h160v-160H180v160Zm440 0h160v-160H620v160Z\"/>\n",
              "  </svg>\n",
              "    </button>\n",
              "\n",
              "  <style>\n",
              "    .colab-df-container {\n",
              "      display:flex;\n",
              "      gap: 12px;\n",
              "    }\n",
              "\n",
              "    .colab-df-convert {\n",
              "      background-color: #E8F0FE;\n",
              "      border: none;\n",
              "      border-radius: 50%;\n",
              "      cursor: pointer;\n",
              "      display: none;\n",
              "      fill: #1967D2;\n",
              "      height: 32px;\n",
              "      padding: 0 0 0 0;\n",
              "      width: 32px;\n",
              "    }\n",
              "\n",
              "    .colab-df-convert:hover {\n",
              "      background-color: #E2EBFA;\n",
              "      box-shadow: 0px 1px 2px rgba(60, 64, 67, 0.3), 0px 1px 3px 1px rgba(60, 64, 67, 0.15);\n",
              "      fill: #174EA6;\n",
              "    }\n",
              "\n",
              "    .colab-df-buttons div {\n",
              "      margin-bottom: 4px;\n",
              "    }\n",
              "\n",
              "    [theme=dark] .colab-df-convert {\n",
              "      background-color: #3B4455;\n",
              "      fill: #D2E3FC;\n",
              "    }\n",
              "\n",
              "    [theme=dark] .colab-df-convert:hover {\n",
              "      background-color: #434B5C;\n",
              "      box-shadow: 0px 1px 3px 1px rgba(0, 0, 0, 0.15);\n",
              "      filter: drop-shadow(0px 1px 2px rgba(0, 0, 0, 0.3));\n",
              "      fill: #FFFFFF;\n",
              "    }\n",
              "  </style>\n",
              "\n",
              "    <script>\n",
              "      const buttonEl =\n",
              "        document.querySelector('#df-a8abbb47-0563-4daa-8440-ae97e02cc58e button.colab-df-convert');\n",
              "      buttonEl.style.display =\n",
              "        google.colab.kernel.accessAllowed ? 'block' : 'none';\n",
              "\n",
              "      async function convertToInteractive(key) {\n",
              "        const element = document.querySelector('#df-a8abbb47-0563-4daa-8440-ae97e02cc58e');\n",
              "        const dataTable =\n",
              "          await google.colab.kernel.invokeFunction('convertToInteractive',\n",
              "                                                    [key], {});\n",
              "        if (!dataTable) return;\n",
              "\n",
              "        const docLinkHtml = 'Like what you see? Visit the ' +\n",
              "          '<a target=\"_blank\" href=https://colab.research.google.com/notebooks/data_table.ipynb>data table notebook</a>'\n",
              "          + ' to learn more about interactive tables.';\n",
              "        element.innerHTML = '';\n",
              "        dataTable['output_type'] = 'display_data';\n",
              "        await google.colab.output.renderOutput(dataTable, element);\n",
              "        const docLink = document.createElement('div');\n",
              "        docLink.innerHTML = docLinkHtml;\n",
              "        element.appendChild(docLink);\n",
              "      }\n",
              "    </script>\n",
              "  </div>\n",
              "\n",
              "\n",
              "<div id=\"df-0b3305bd-a94d-489d-824d-fdc83f70066b\">\n",
              "  <button class=\"colab-df-quickchart\" onclick=\"quickchart('df-0b3305bd-a94d-489d-824d-fdc83f70066b')\"\n",
              "            title=\"Suggest charts\"\n",
              "            style=\"display:none;\">\n",
              "\n",
              "<svg xmlns=\"http://www.w3.org/2000/svg\" height=\"24px\"viewBox=\"0 0 24 24\"\n",
              "     width=\"24px\">\n",
              "    <g>\n",
              "        <path d=\"M19 3H5c-1.1 0-2 .9-2 2v14c0 1.1.9 2 2 2h14c1.1 0 2-.9 2-2V5c0-1.1-.9-2-2-2zM9 17H7v-7h2v7zm4 0h-2V7h2v10zm4 0h-2v-4h2v4z\"/>\n",
              "    </g>\n",
              "</svg>\n",
              "  </button>\n",
              "\n",
              "<style>\n",
              "  .colab-df-quickchart {\n",
              "      --bg-color: #E8F0FE;\n",
              "      --fill-color: #1967D2;\n",
              "      --hover-bg-color: #E2EBFA;\n",
              "      --hover-fill-color: #174EA6;\n",
              "      --disabled-fill-color: #AAA;\n",
              "      --disabled-bg-color: #DDD;\n",
              "  }\n",
              "\n",
              "  [theme=dark] .colab-df-quickchart {\n",
              "      --bg-color: #3B4455;\n",
              "      --fill-color: #D2E3FC;\n",
              "      --hover-bg-color: #434B5C;\n",
              "      --hover-fill-color: #FFFFFF;\n",
              "      --disabled-bg-color: #3B4455;\n",
              "      --disabled-fill-color: #666;\n",
              "  }\n",
              "\n",
              "  .colab-df-quickchart {\n",
              "    background-color: var(--bg-color);\n",
              "    border: none;\n",
              "    border-radius: 50%;\n",
              "    cursor: pointer;\n",
              "    display: none;\n",
              "    fill: var(--fill-color);\n",
              "    height: 32px;\n",
              "    padding: 0;\n",
              "    width: 32px;\n",
              "  }\n",
              "\n",
              "  .colab-df-quickchart:hover {\n",
              "    background-color: var(--hover-bg-color);\n",
              "    box-shadow: 0 1px 2px rgba(60, 64, 67, 0.3), 0 1px 3px 1px rgba(60, 64, 67, 0.15);\n",
              "    fill: var(--button-hover-fill-color);\n",
              "  }\n",
              "\n",
              "  .colab-df-quickchart-complete:disabled,\n",
              "  .colab-df-quickchart-complete:disabled:hover {\n",
              "    background-color: var(--disabled-bg-color);\n",
              "    fill: var(--disabled-fill-color);\n",
              "    box-shadow: none;\n",
              "  }\n",
              "\n",
              "  .colab-df-spinner {\n",
              "    border: 2px solid var(--fill-color);\n",
              "    border-color: transparent;\n",
              "    border-bottom-color: var(--fill-color);\n",
              "    animation:\n",
              "      spin 1s steps(1) infinite;\n",
              "  }\n",
              "\n",
              "  @keyframes spin {\n",
              "    0% {\n",
              "      border-color: transparent;\n",
              "      border-bottom-color: var(--fill-color);\n",
              "      border-left-color: var(--fill-color);\n",
              "    }\n",
              "    20% {\n",
              "      border-color: transparent;\n",
              "      border-left-color: var(--fill-color);\n",
              "      border-top-color: var(--fill-color);\n",
              "    }\n",
              "    30% {\n",
              "      border-color: transparent;\n",
              "      border-left-color: var(--fill-color);\n",
              "      border-top-color: var(--fill-color);\n",
              "      border-right-color: var(--fill-color);\n",
              "    }\n",
              "    40% {\n",
              "      border-color: transparent;\n",
              "      border-right-color: var(--fill-color);\n",
              "      border-top-color: var(--fill-color);\n",
              "    }\n",
              "    60% {\n",
              "      border-color: transparent;\n",
              "      border-right-color: var(--fill-color);\n",
              "    }\n",
              "    80% {\n",
              "      border-color: transparent;\n",
              "      border-right-color: var(--fill-color);\n",
              "      border-bottom-color: var(--fill-color);\n",
              "    }\n",
              "    90% {\n",
              "      border-color: transparent;\n",
              "      border-bottom-color: var(--fill-color);\n",
              "    }\n",
              "  }\n",
              "</style>\n",
              "\n",
              "  <script>\n",
              "    async function quickchart(key) {\n",
              "      const quickchartButtonEl =\n",
              "        document.querySelector('#' + key + ' button');\n",
              "      quickchartButtonEl.disabled = true;  // To prevent multiple clicks.\n",
              "      quickchartButtonEl.classList.add('colab-df-spinner');\n",
              "      try {\n",
              "        const charts = await google.colab.kernel.invokeFunction(\n",
              "            'suggestCharts', [key], {});\n",
              "      } catch (error) {\n",
              "        console.error('Error during call to suggestCharts:', error);\n",
              "      }\n",
              "      quickchartButtonEl.classList.remove('colab-df-spinner');\n",
              "      quickchartButtonEl.classList.add('colab-df-quickchart-complete');\n",
              "    }\n",
              "    (() => {\n",
              "      let quickchartButtonEl =\n",
              "        document.querySelector('#df-0b3305bd-a94d-489d-824d-fdc83f70066b button');\n",
              "      quickchartButtonEl.style.display =\n",
              "        google.colab.kernel.accessAllowed ? 'block' : 'none';\n",
              "    })();\n",
              "  </script>\n",
              "</div>\n",
              "    </div>\n",
              "  </div>\n"
            ],
            "application/vnd.google.colaboratory.intrinsic+json": {
              "type": "dataframe",
              "variable_name": "data",
              "summary": "{\n  \"name\": \"data\",\n  \"rows\": 17830,\n  \"fields\": [\n    {\n      \"column\": \"text\",\n      \"properties\": {\n        \"dtype\": \"string\",\n        \"num_unique_values\": 17830,\n        \"samples\": [\n          \"Subject: friendly reminder - - global strategic sourcing travel services survey please take a few minutes to complete this confidential travel survey , as your input is important and vital to the success of the overall travel program for enron . thank you , global strategic sourcing experiencing technical problems ? if this link does not automatically launch the questionnaire : 1 . launch by copying the link above into your browser , or 2 . if you continue to have technical difficulties , please send an email message to confirmit @ enron . com 3 . please do not forward this link to anyone else , as the responses should remain confidential .\",\n          \"Subject: day rate hedge vince , included is the rest of the prices for 4 th and 5 th generation semi - submersibles in the gulf of mexico . the only additional data is from sept 99 through dec 99 . chris and i look forward to your analysis on tuesday .\",\n          \"Subject: do you hate red light cameras ? - j 4 svs have you been caught by a red light camera yet ? if yes , then you have already paid $ 100 ? $ 150 ? $ 250 ? or more for each offense ! what if i told you there is a way to avoid these fines forever ? 100 % gauranteed come here to find out how check here to change your future preference . \"\n        ],\n        \"semantic_type\": \"\",\n        \"description\": \"\"\n      }\n    },\n    {\n      \"column\": \"label\",\n      \"properties\": {\n        \"dtype\": \"category\",\n        \"num_unique_values\": 2,\n        \"samples\": [\n          \"ham\",\n          \"spam\"\n        ],\n        \"semantic_type\": \"\",\n        \"description\": \"\"\n      }\n    }\n  ]\n}"
            }
          },
          "metadata": {},
          "execution_count": 5
        }
      ]
    },
    {
      "cell_type": "code",
      "source": [
        "from nltk.stem import SnowballStemmer\n",
        "from nltk import TweetTokenizer\n",
        "stopwords = nltk.corpus.stopwords.words('english')\n",
        "import re\n",
        "\n",
        "#cleaning dataset\n",
        "tk = TweetTokenizer() #creating object for tokenizer\n",
        "stemmer = SnowballStemmer('english') #creating object for stemmer\n",
        "corpus = []\n",
        "\n",
        "for i in range(0,len(data)): #len(data) indicates no. of rows or lines to process\n",
        " message = re.sub('[^a-zA-Z]', ' ', data['text'][i]) #replace any value other than a-z or A-Z with space\n",
        " message = re.sub(\"Subject\", \"\", message)\n",
        " message = message.lower() #lowercase all words in a row\n",
        " message =tk.tokenize(message)\n",
        " message = [stemmer.stem(word) for word in message if not\\\n",
        " word in set(stopwords)] #stemming if word not present in stop words\n",
        " message = ' '.join(message) #joining list of words to form a sentence\n",
        " corpus.append(message)"
      ],
      "metadata": {
        "id": "y07YQ1SFWNGg"
      },
      "execution_count": null,
      "outputs": []
    },
    {
      "cell_type": "code",
      "source": [
        "#creating cleaned dataframe containing text and labels for visualisation purpose\n",
        "df = pd.DataFrame({'text':corpus})\n",
        "print (df)"
      ],
      "metadata": {
        "colab": {
          "base_uri": "https://localhost:8080/"
        },
        "id": "NIFF3ychWvAQ",
        "outputId": "8d220a57-52f0-47ad-a504-6ac67df17a32"
      },
      "execution_count": null,
      "outputs": [
        {
          "output_type": "stream",
          "name": "stdout",
          "text": [
            "                                                    text\n",
            "0      cam babe look look companion friendship love d...\n",
            "1      want make money order confirm order ship janua...\n",
            "2           food thought join take free tour click remov\n",
            "3      pharmaci ta would want cheap perscript http ww...\n",
            "4      bigger breast pill imag load cli k info ship s...\n",
            "...                                                  ...\n",
            "17825  consent need desk honor chairman local everyth...\n",
            "17826  see page save thousand e help get e cheap zv s...\n",
            "17827  go time aaron offload misplac shove withstand ...\n",
            "17828  extra time ejacul within minut penetr must ord...\n",
            "17829  one time check rock money paper space winter u...\n",
            "\n",
            "[17830 rows x 1 columns]\n"
          ]
        }
      ]
    },
    {
      "cell_type": "code",
      "source": [
        "data= df.join(data[\"label\"], how=\"outer\")\n",
        "print(data)"
      ],
      "metadata": {
        "colab": {
          "base_uri": "https://localhost:8080/"
        },
        "id": "ruM5JC31WzVe",
        "outputId": "a79acf90-64e7-4fd8-da0e-1e800efbbe3c"
      },
      "execution_count": null,
      "outputs": [
        {
          "output_type": "stream",
          "name": "stdout",
          "text": [
            "                                                    text label\n",
            "0      cam babe look look companion friendship love d...  spam\n",
            "1      want make money order confirm order ship janua...  spam\n",
            "2           food thought join take free tour click remov  spam\n",
            "3      pharmaci ta would want cheap perscript http ww...  spam\n",
            "4      bigger breast pill imag load cli k info ship s...  spam\n",
            "...                                                  ...   ...\n",
            "17825  consent need desk honor chairman local everyth...  spam\n",
            "17826  see page save thousand e help get e cheap zv s...  spam\n",
            "17827  go time aaron offload misplac shove withstand ...  spam\n",
            "17828  extra time ejacul within minut penetr must ord...  spam\n",
            "17829  one time check rock money paper space winter u...  spam\n",
            "\n",
            "[17830 rows x 2 columns]\n"
          ]
        }
      ]
    },
    {
      "cell_type": "code",
      "source": [
        "from sklearn.model_selection import train_test_split\n",
        "X_train, X_test, y_train, y_test = train_test_split(corpus, y, test_size = 0.20,random_state = 0)"
      ],
      "metadata": {
        "id": "mEHKHWyBW31v"
      },
      "execution_count": null,
      "outputs": []
    },
    {
      "cell_type": "code",
      "source": [
        "# Creating the Bag of Words model\n",
        "from sklearn.feature_extraction.text import CountVectorizer\n",
        "cv = CountVectorizer()\n",
        "BOW_train=cv.fit_transform(X_train).toarray() #fitting only on the train set\n",
        "BOW_test=cv.transform(X_test).toarray()"
      ],
      "metadata": {
        "id": "HCRhg7daXR6o"
      },
      "execution_count": null,
      "outputs": []
    },
    {
      "cell_type": "code",
      "source": [
        "print(len(cv.vocabulary_))\n",
        "print(BOW_train.shape)\n",
        "print(BOW_test.shape)\n",
        "print(BOW_train[:1000])"
      ],
      "metadata": {
        "colab": {
          "base_uri": "https://localhost:8080/"
        },
        "id": "HmKU5b2-XtUr",
        "outputId": "427bd0ca-47a7-4eaf-ce19-8a3e6c70e723"
      },
      "execution_count": null,
      "outputs": [
        {
          "output_type": "stream",
          "name": "stdout",
          "text": [
            "48091\n",
            "(14264, 48091)\n",
            "(3566, 48091)\n",
            "[[0 0 0 ... 0 0 0]\n",
            " [0 0 0 ... 0 0 0]\n",
            " [0 0 0 ... 0 0 0]\n",
            " ...\n",
            " [0 0 0 ... 0 0 0]\n",
            " [0 0 0 ... 0 0 0]\n",
            " [0 0 0 ... 0 0 0]]\n"
          ]
        }
      ]
    },
    {
      "cell_type": "markdown",
      "source": [
        "\n",
        "\n",
        "#Models trained with BOW"
      ],
      "metadata": {
        "id": "YSepPbOeX-NN"
      }
    },
    {
      "cell_type": "code",
      "source": [
        "#import the classifiers\n",
        "from sklearn.naive_bayes import MultinomialNB\n",
        "from sklearn.ensemble import RandomForestClassifier\n",
        "from sklearn.neighbors import KNeighborsClassifier\n",
        "from sklearn import metrics"
      ],
      "metadata": {
        "id": "IaC_goJbXxGP"
      },
      "execution_count": null,
      "outputs": []
    },
    {
      "cell_type": "code",
      "source": [
        "classifier_MNB = MultinomialNB()\n",
        "classifier_MNB.fit(BOW_train, y_train)\n",
        "# Test the model after training\n",
        "test_results_MNB = classifier_MNB.predict(BOW_test)\n",
        "accuracy = metrics.accuracy_score(y_test, test_results_MNB)\n",
        "print(f'{accuracy *100: .2f}%')"
      ],
      "metadata": {
        "colab": {
          "base_uri": "https://localhost:8080/"
        },
        "id": "k5o83d3cX8VX",
        "outputId": "13f52112-88a8-40c6-d4b6-42afe61c69a5"
      },
      "execution_count": null,
      "outputs": [
        {
          "output_type": "stream",
          "name": "stdout",
          "text": [
            " 98.46%\n"
          ]
        }
      ]
    },
    {
      "cell_type": "markdown",
      "source": [
        "##knn model train"
      ],
      "metadata": {
        "id": "OGaAiZvKYD5o"
      }
    },
    {
      "cell_type": "code",
      "source": [
        "classifier_KNN = KNeighborsClassifier()\n",
        "classifier_KNN.fit(BOW_train, y_train)\n",
        "# Test the model after training\n",
        "test_results_KNN = classifier_KNN.predict(BOW_test)\n",
        "accuracy = metrics.accuracy_score(y_test, test_results_KNN)\n",
        "print(f'{accuracy *100: .2f}%')"
      ],
      "metadata": {
        "colab": {
          "base_uri": "https://localhost:8080/"
        },
        "id": "3tRIF-V8YF3H",
        "outputId": "62c85b93-85df-473e-c6ef-5808138baafc"
      },
      "execution_count": null,
      "outputs": [
        {
          "output_type": "stream",
          "name": "stdout",
          "text": [
            " 85.19%\n"
          ]
        }
      ]
    },
    {
      "cell_type": "markdown",
      "source": [
        "##random forest train"
      ],
      "metadata": {
        "id": "j7WcKDEWYK_V"
      }
    },
    {
      "cell_type": "code",
      "source": [
        "classifier_RF = RandomForestClassifier(max_depth=60,n_estimators=100,n_jobs=-1,\n",
        "random_state=2)\n",
        "classifier_RF.fit(BOW_train, y_train)\n",
        "# Test the model after training\n",
        "test_results_RF = classifier_RF.predict(BOW_test)\n",
        "accuracy = metrics.accuracy_score(y_test, test_results_RF)\n",
        "print(f'{accuracy *100: .2f}%')"
      ],
      "metadata": {
        "colab": {
          "base_uri": "https://localhost:8080/"
        },
        "id": "YtPy1dNsYNqk",
        "outputId": "f8ea1268-7bc1-4634-89ac-bbd297727ec3"
      },
      "execution_count": null,
      "outputs": [
        {
          "output_type": "stream",
          "name": "stdout",
          "text": [
            " 96.80%\n"
          ]
        }
      ]
    },
    {
      "cell_type": "markdown",
      "source": [
        "#Models trained with tfid vectors"
      ],
      "metadata": {
        "id": "vX4kH8b3YSym"
      }
    },
    {
      "cell_type": "code",
      "source": [
        "# Creating the TFIDF model\n",
        "from sklearn.feature_extraction.text import TfidfVectorizer\n",
        "tfidf = TfidfVectorizer()\n",
        "TFIDF_train=tfidf.fit_transform(X_train).toarray() #fitting only on the train\n",
        "set\n",
        "TFIDF_test=tfidf.transform(X_test).toarray()\n",
        "print(len(tfidf.vocabulary_))\n",
        "print(TFIDF_train.shape)\n",
        "print(TFIDF_test.shape)"
      ],
      "metadata": {
        "colab": {
          "base_uri": "https://localhost:8080/"
        },
        "id": "jPetw7BfYUjN",
        "outputId": "c5422c14-65df-4bb0-80f6-bb24ebc6304c"
      },
      "execution_count": null,
      "outputs": [
        {
          "output_type": "stream",
          "name": "stdout",
          "text": [
            "48091\n",
            "(14264, 48091)\n",
            "(3566, 48091)\n"
          ]
        }
      ]
    },
    {
      "cell_type": "code",
      "source": [
        "classifier_MNB.fit(TFIDF_train, y_train)\n",
        "# Test the model after training\n",
        "test_results_MNB = classifier_MNB.predict(TFIDF_test)\n",
        "accuracy = metrics.accuracy_score(y_test, test_results_MNB)\n",
        "print(f'{accuracy *100: .2f}%')"
      ],
      "metadata": {
        "colab": {
          "base_uri": "https://localhost:8080/"
        },
        "id": "4pxLoPZnbRIm",
        "outputId": "26a62e4f-3977-4351-e414-46a424e94831"
      },
      "execution_count": null,
      "outputs": [
        {
          "output_type": "stream",
          "name": "stdout",
          "text": [
            " 98.40%\n"
          ]
        }
      ]
    },
    {
      "cell_type": "code",
      "source": [
        "classifier_KNN.fit(TFIDF_train, y_train)\n",
        "# Test the model after training\n",
        "test_results_KNN = classifier_KNN.predict(TFIDF_test)\n",
        "accuracy = metrics.accuracy_score(y_test, test_results_KNN)\n",
        "print(f'{accuracy *100: .2f}%')"
      ],
      "metadata": {
        "colab": {
          "base_uri": "https://localhost:8080/"
        },
        "id": "RGMmbT5DbXld",
        "outputId": "71f95ef2-77a6-4026-bc61-c48908629e4d"
      },
      "execution_count": null,
      "outputs": [
        {
          "output_type": "stream",
          "name": "stdout",
          "text": [
            " 68.56%\n"
          ]
        }
      ]
    },
    {
      "cell_type": "code",
      "source": [
        "classifier_RF.fit(TFIDF_train, y_train)\n",
        "# Test the model after training\n",
        "test_results_RF = classifier_RF.predict(TFIDF_test)\n",
        "accuracy = metrics.accuracy_score(y_test, test_results_RF)\n",
        "print(f'{accuracy *100: .2f}%')"
      ],
      "metadata": {
        "colab": {
          "base_uri": "https://localhost:8080/"
        },
        "id": "dkXuu-tJbbs2",
        "outputId": "d5011381-4123-49b2-987d-26d29a270085"
      },
      "execution_count": null,
      "outputs": [
        {
          "output_type": "stream",
          "name": "stdout",
          "text": [
            " 97.14%\n"
          ]
        }
      ]
    },
    {
      "cell_type": "markdown",
      "source": [
        "#Table for Comparison of Methods"
      ],
      "metadata": {
        "id": "6i6JFQyLiEzD"
      }
    },
    {
      "cell_type": "markdown",
      "source": [
        "![image.png](data:image/png;base64,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)\n",
        "\n"
      ],
      "metadata": {
        "id": "l1EiEUtlaxue"
      }
    },
    {
      "cell_type": "markdown",
      "source": [
        "Best performance is with BOW and Multinomial"
      ],
      "metadata": {
        "id": "c5HZl7aoiMjB"
      }
    }
  ]
}